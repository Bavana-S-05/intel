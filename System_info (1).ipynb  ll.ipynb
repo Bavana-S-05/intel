{
 "cells": [
  {
   "cell_type": "code",
   "execution_count": 1,
   "id": "cae69c77-e93e-4ece-86bf-b2b0e27c9773",
   "metadata": {},
   "outputs": [
    {
     "name": "stdout",
     "output_type": "stream",
     "text": [
      "System Information:\n",
      "System: Linux\n",
      "Node Name: idc-training-gpu-compute-10\n",
      "Release: 5.15.0-128-generic\n",
      "Version: #138-Ubuntu SMP Sat Nov 30 22:28:23 UTC 2024\n",
      "Machine: x86_64\n",
      "Processor: x86_64\n"
     ]
    }
   ],
   "source": [
    "import platform\n",
    "import psutil\n",
    "system_info = platform.uname()\n",
    "\n",
    "print(\"System Information:\")\n",
    "print(f\"System: {system_info.system}\")\n",
    "print(f\"Node Name: {system_info.node}\")\n",
    "print(f\"Release: {system_info.release}\")\n",
    "print(f\"Version: {system_info.version}\")\n",
    "print(f\"Machine: {system_info.machine}\")\n",
    "print(f\"Processor: {system_info.processor}\")"
   ]
  },
  {
   "cell_type": "code",
   "execution_count": 2,
   "id": "d8974c4c-f859-4dcb-81fd-de9e40e40c4a",
   "metadata": {},
   "outputs": [
    {
     "name": "stdout",
     "output_type": "stream",
     "text": [
      "\n",
      "CPU Information:\n",
      "Processor: x86_64\n",
      "Physical Cores: 96\n",
      "Logical Cores: 192\n"
     ]
    }
   ],
   "source": [
    "cpu_info = platform.processor()\n",
    "cpu_count = psutil.cpu_count(logical=False)\n",
    "logical_cpu_count = psutil.cpu_count(logical=True)\n",
    "\n",
    "print(\"\\nCPU Information:\")\n",
    "print(f\"Processor: {cpu_info}\")\n",
    "print(f\"Physical Cores: {cpu_count}\")\n",
    "print(f\"Logical Cores: {logical_cpu_count}\")"
   ]
  },
  {
   "cell_type": "code",
   "execution_count": 3,
   "id": "729ea7d0-85e1-4e82-bfac-eece52f5e963",
   "metadata": {},
   "outputs": [
    {
     "name": "stdout",
     "output_type": "stream",
     "text": [
      "\n",
      "Memory Information:\n",
      "Total Memory: 1081842860032 bytes\n",
      "Available Memory: 988547940352 bytes\n",
      "Used Memory: 86824103936 bytes\n",
      "Memory Utilization: 8.6%\n"
     ]
    }
   ],
   "source": [
    "memory_info = psutil.virtual_memory()\n",
    "\n",
    "print(\"\\nMemory Information:\")\n",
    "print(f\"Total Memory: {memory_info.total} bytes\")\n",
    "print(f\"Available Memory: {memory_info.available} bytes\")\n",
    "print(f\"Used Memory: {memory_info.used} bytes\")\n",
    "print(f\"Memory Utilization: {memory_info.percent}%\")"
   ]
  },
  {
   "cell_type": "code",
   "execution_count": 4,
   "id": "a2ed2e2c-d84a-4e58-ab7f-236b1e8f7a59",
   "metadata": {},
   "outputs": [
    {
     "name": "stdout",
     "output_type": "stream",
     "text": [
      "\n",
      "Disk Information:\n",
      "Total Disk Space: 930334486528 bytes\n",
      "Used Disk Space: 53879042048 bytes\n",
      "Free Disk Space: 876438667264 bytes\n",
      "Disk Space Utilization: 5.8%\n"
     ]
    }
   ],
   "source": [
    "disk_info = psutil.disk_usage('/')\n",
    "\n",
    "print(\"\\nDisk Information:\")\n",
    "print(f\"Total Disk Space: {disk_info.total} bytes\")\n",
    "print(f\"Used Disk Space: {disk_info.used} bytes\")\n",
    "print(f\"Free Disk Space: {disk_info.free} bytes\")\n",
    "print(f\"Disk Space Utilization: {disk_info.percent}%\")"
   ]
  },
  {
   "cell_type": "code",
   "execution_count": 5,
   "id": "d9c44ed4-4de3-4313-8979-1530935f8338",
   "metadata": {},
   "outputs": [
    {
     "name": "stdout",
     "output_type": "stream",
     "text": [
      "Defaulting to user installation because normal site-packages is not writeable\n",
      "Collecting gputil\n",
      "  Downloading GPUtil-1.4.0.tar.gz (5.5 kB)\n",
      "  Preparing metadata (setup.py) ... \u001b[?25ldone\n",
      "\u001b[?25hBuilding wheels for collected packages: gputil\n",
      "  Building wheel for gputil (setup.py) ... \u001b[?25ldone\n",
      "\u001b[?25h  Created wheel for gputil: filename=GPUtil-1.4.0-py3-none-any.whl size=7411 sha256=2f14943a34ffb7c5230759998a36db623e63b0ab9ef2595ce517959f1a958c18\n",
      "  Stored in directory: /home/ub2189e086da0f20c0dcbaa43d7e904c/.cache/pip/wheels/a9/8a/bd/81082387151853ab8b6b3ef33426e98f5cbfebc3c397a9d4d0\n",
      "Successfully built gputil\n",
      "Installing collected packages: gputil\n",
      "Successfully installed gputil-1.4.0\n"
     ]
    }
   ],
   "source": [
    "import sys\n",
    "!pip install gputil"
   ]
  },
  {
   "cell_type": "code",
   "execution_count": 6,
   "id": "bec8b6c7-35e9-4708-afb1-4691bfd58ff0",
   "metadata": {},
   "outputs": [
    {
     "ename": "ModuleNotFoundError",
     "evalue": "No module named 'GPUtil'",
     "output_type": "error",
     "traceback": [
      "\u001b[0;31m---------------------------------------------------------------------------\u001b[0m",
      "\u001b[0;31mModuleNotFoundError\u001b[0m                       Traceback (most recent call last)",
      "Cell \u001b[0;32mIn[6], line 1\u001b[0m\n\u001b[0;32m----> 1\u001b[0m \u001b[38;5;28;01mimport\u001b[39;00m \u001b[38;5;21;01mGPUtil\u001b[39;00m\n\u001b[1;32m      2\u001b[0m gpus \u001b[38;5;241m=\u001b[39m GPUtil\u001b[38;5;241m.\u001b[39mgetGPUs()\n\u001b[1;32m      4\u001b[0m \u001b[38;5;28;01mif\u001b[39;00m \u001b[38;5;129;01mnot\u001b[39;00m gpus:\n",
      "\u001b[0;31mModuleNotFoundError\u001b[0m: No module named 'GPUtil'"
     ]
    }
   ],
   "source": [
    "import GPUtil\n",
    "gpus = GPUtil.getGPUs()\n",
    "\n",
    "if not gpus:\n",
    "    print(\"No GPU detected.\")\n",
    "else:\n",
    "    for i, gpu in enumerate(gpus):\n",
    "        print(f\"\\nGPU {i + 1} Information:\")\n",
    "        print(f\"ID: {gpu.id}\")\n",
    "        print(f\"Name: {gpu.name}\")\n",
    "        print(f\"Driver: {gpu.driver}\")\n",
    "        print(f\"GPU Memory Total: {gpu.memoryTotal} MB\")\n",
    "        print(f\"GPU Memory Free: {gpu.memoryFree} MB\")\n",
    "        print(f\"GPU Memory Used: {gpu.memoryUsed} MB\")\n",
    "        print(f\"GPU Load: {gpu.load * 100}%\")\n",
    "        print(f\"GPU Temperature: {gpu.temperature}°C\")"
   ]
  },
  {
   "cell_type": "code",
   "execution_count": null,
   "id": "81af3c84-6734-440f-ac7f-9b5574bd0859",
   "metadata": {},
   "outputs": [],
   "source": []
  },
  {
   "cell_type": "code",
   "execution_count": null,
   "id": "243669f6-ba63-4d38-8019-9bccc0fe15b0",
   "metadata": {},
   "outputs": [],
   "source": []
  },
  {
   "cell_type": "code",
   "execution_count": null,
   "id": "63a43dd2-dacd-43e7-bf5f-77affbc251f3",
   "metadata": {},
   "outputs": [],
   "source": []
  },
  {
   "cell_type": "code",
   "execution_count": null,
   "id": "2905ac46-6793-4918-80c1-0a2c1d9da333",
   "metadata": {},
   "outputs": [],
   "source": []
  }
 ],
 "metadata": {
  "kernelspec": {
   "display_name": "Python 3 (ipykernel)",
   "language": "python",
   "name": "python3"
  },
  "language_info": {
   "codemirror_mode": {
    "name": "ipython",
    "version": 3
   },
   "file_extension": ".py",
   "mimetype": "text/x-python",
   "name": "python",
   "nbconvert_exporter": "python",
   "pygments_lexer": "ipython3",
   "version": "3.11.5"
  }
 },
 "nbformat": 4,
 "nbformat_minor": 5
}
